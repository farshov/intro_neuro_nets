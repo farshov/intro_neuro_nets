{
 "cells": [
  {
   "cell_type": "code",
   "execution_count": 1,
   "metadata": {},
   "outputs": [],
   "source": [
    "import numpy as np\n",
    "import matplotlib.pyplot as plt\n",
    "import pickle\n",
    "import copy\n",
    "from sklearn.model_selection import train_test_split\n",
    "from sklearn.model_selection import StratifiedKFold\n",
    "%matplotlib inline"
   ]
  },
  {
   "cell_type": "code",
   "execution_count": 2,
   "metadata": {},
   "outputs": [],
   "source": [
    "# класс one-hot encoder'а для MNIST\n",
    "class OneHotEncoder:\n",
    "    def __init__(self):\n",
    "        self.transform_mapping = np.zeros((10,10))\n",
    "        for i in range(self.transform_mapping.shape[0]):\n",
    "            self.transform_mapping[i][i] = 1.0\n",
    "    def transform(self, y):\n",
    "        return self.transform_mapping[int(y)]"
   ]
  },
  {
   "cell_type": "code",
   "execution_count": 3,
   "metadata": {},
   "outputs": [],
   "source": [
    "def make_submission(X_test, net, fname=\"my_submission.csv\"):\n",
    "    with open(fname,'w') as fout:\n",
    "        fout.write('Id,Category')\n",
    "        for i in range(X_test.shape[0]):\n",
    "            y_h = net.forward(X_test[i])\n",
    "            y = np.argmax(y_h)\n",
    "            fout.write(\"\\n{},{}\".format(i, int(y)))"
   ]
  },
  {
   "cell_type": "code",
   "execution_count": 4,
   "metadata": {},
   "outputs": [],
   "source": [
    "# внимание, тут Y_test в обычном формате(не onehot)\n",
    "def compute_acc(X_test, Y_test, net):\n",
    "    acc = 0.0\n",
    "    for i in range(X_test.shape[0]):\n",
    "        y_h = net.forward(X_test[i])\n",
    "        y = np.argmax(y_h)\n",
    "        if(y == Y_test[i]):\n",
    "            acc += 1.0\n",
    "    return acc / Y_test.shape[0]"
   ]
  },
  {
   "cell_type": "code",
   "execution_count": 5,
   "metadata": {},
   "outputs": [],
   "source": [
    "train_data = None\n",
    "test_data = None\n",
    "encoder = OneHotEncoder()\n",
    "with open('data_train.pickle','rb') as fin:\n",
    "    train_data = pickle.load(fin)\n",
    "with open('data_test_no_labels.pickle','rb') as fin:\n",
    "    test_data = pickle.load(fin)\n",
    "    \n",
    "X_train = train_data['data']\n",
    "Y_train = train_data['target']\n",
    "Y_train_oh = np.array(list(map(lambda x : encoder.transform(x), Y_train)))\n",
    "\n",
    "\n",
    "X_test_fin = test_data['data']"
   ]
  },
  {
   "cell_type": "code",
   "execution_count": 6,
   "metadata": {},
   "outputs": [
    {
     "data": {
      "image/png": "[encoded data removed]",
      "text/plain": [
       "<Figure size 432x288 with 16 Axes>"
      ]
     },
     "metadata": {
      "needs_background": "light"
     },
     "output_type": "display_data"
    }
   ],
   "source": [
    "n=4\n",
    "for i in range(n*n):\n",
    "    plt.subplot(n,n,i+1)\n",
    "    I = train_data['data'][np.random.randint(0, X_train.shape[0]),:]\n",
    "    I = I.reshape((28, 28))\n",
    "    plt.imshow(I, cmap='gray')"
   ]
  },
  {
   "cell_type": "markdown",
   "metadata": {},
   "source": [
    "# Подготовка датасета"
   ]
  },
  {
   "cell_type": "code",
   "execution_count": 7,
   "metadata": {},
   "outputs": [],
   "source": [
    "X_train, X_test, y_train, y_test = train_test_split(X_train, Y_train_oh, test_size=0.2, \n",
    "                                                    random_state=12, stratify=Y_train)\n",
    "X_train, X_val, y_train, y_val = train_test_split(X_train, y_train, test_size=0.2, \n",
    "                                                    random_state=12)"
   ]
  },
  {
   "cell_type": "code",
   "execution_count": 8,
   "metadata": {},
   "outputs": [],
   "source": [
    "mu = np.mean(X_train)\n",
    "std = np.std(X_train)\n",
    "eps = 1e-5"
   ]
  },
  {
   "cell_type": "code",
   "execution_count": 9,
   "metadata": {},
   "outputs": [],
   "source": [
    "X_train = (X_train - mu) / (std + eps)\n",
    "X_val = (X_val - mu) / (std + eps)\n",
    "X_test = (X_test - mu) / (std + eps)\n",
    "X_test_fin = (X_test_fin - mu) / (std + eps)"
   ]
  },
  {
   "cell_type": "markdown",
   "metadata": {},
   "source": [
    "# Определение слоев сети"
   ]
  },
  {
   "cell_type": "code",
   "execution_count": 76,
   "metadata": {},
   "outputs": [],
   "source": [
    "class Dense():\n",
    "    \n",
    "    def __init__(self, in_size, out_size, learning_rate):\n",
    "        self.lr = learning_rate\n",
    "        self.W = np.random.normal(scale=1, size=[in_size, out_size]) * np.sqrt(2 / in_size)\n",
    "        self.b = np.zeros(out_size)\n",
    "        \n",
    "    def forward(self, x):\n",
    "        self.x = x\n",
    "        out = np.dot(x, self.W) + self.b\n",
    "        return out\n",
    "\n",
    "    def backward(self, dout, lr):\n",
    "        self.lr = lr\n",
    "        x = self.x\n",
    "        w = self.W\n",
    "        db = np.sum(dout, axis=0)\n",
    "        dw = np.dot(x.T, dout)\n",
    "        dx = np.dot(dout, w.T)\n",
    "        \n",
    "        self.W = self.W - self.lr * dw\n",
    "        self.b = self.b - self.lr * db\n",
    "        \n",
    "        return dx"
   ]
  },
  {
   "cell_type": "code",
   "execution_count": 77,
   "metadata": {},
   "outputs": [],
   "source": [
    "class ReLu(): \n",
    "\n",
    "    def forward(self, x):\n",
    "        out = np.maximum(0, x)\n",
    "        self.mask = out\n",
    "        return out\n",
    "\n",
    "    def backward(self, dout):\n",
    "        mask = self.mask > 0\n",
    "        dout = dout * mask\n",
    "        return dout"
   ]
  },
  {
   "cell_type": "code",
   "execution_count": 78,
   "metadata": {},
   "outputs": [],
   "source": [
    "class Dropout():\n",
    "    \n",
    "    def __init__(self, prob):\n",
    "        self.prob = prob\n",
    "    \n",
    "    def forward(self, x):\n",
    "        p = self.prob\n",
    "        mask = (np.random.rand(*x.shape) < p) / p \n",
    "        out = x * mask\n",
    "        self.mask = mask\n",
    "        return out\n",
    "\n",
    "    def backward(self, dout):\n",
    "        dx = dout * self.mask\n",
    "        return dx"
   ]
  },
  {
   "cell_type": "code",
   "execution_count": 79,
   "metadata": {},
   "outputs": [],
   "source": [
    "class CrossEntropy():\n",
    "    \n",
    "    def forward(self, x, y):\n",
    "        shifted_logits = x - np.max(x, axis=1, keepdims=True)\n",
    "        Z = np.sum(np.exp(shifted_logits), axis=1, keepdims=True)\n",
    "        log_probs = shifted_logits - np.log(Z)\n",
    "        probs = np.exp(log_probs)\n",
    "        N = x.shape[0]\n",
    "        idxs = np.argmax(y, axis=1)\n",
    "        loss = -np.sum(log_probs[np.arange(N), idxs]) / N\n",
    "        \n",
    "        self.probs = probs\n",
    "        self.y = idxs\n",
    "        self.N = N\n",
    "        return loss\n",
    "    \n",
    "    def backward(self):\n",
    "        dz = self.probs\n",
    "        dz[np.arange(self.N), self.y] -= 1\n",
    "        dz /= self.N\n",
    "        return dz"
   ]
  },
  {
   "cell_type": "code",
   "execution_count": 80,
   "metadata": {},
   "outputs": [],
   "source": [
    "def calc_acc(scores, y):\n",
    "    acc = 0.0\n",
    "    idxs = np.argmax(scores, axis=1)\n",
    "    y_true = np.argmax(y, axis=1)\n",
    "    acc = np.sum(idxs == y_true)\n",
    "    return acc / y.shape[0]"
   ]
  },
  {
   "cell_type": "markdown",
   "metadata": {},
   "source": [
    "# Опеределение самой сети"
   ]
  },
  {
   "cell_type": "code",
   "execution_count": 81,
   "metadata": {},
   "outputs": [],
   "source": [
    "class MnistNet():\n",
    "    def __init__(self, in_size, hidden_sizes, out_size, loss=CrossEntropy(),\n",
    "                 learning_rate=1e-4, prob=1, lr_decay=1, mode='test'):\n",
    "        self.loss = loss\n",
    "        self.mode = mode\n",
    "        self.lr = learning_rate\n",
    "        self.prob = prob\n",
    "        self.decay = lr_decay\n",
    "        \n",
    "        self.dense_l = []\n",
    "        self.relu_l = []\n",
    "        self.dropout_l = []\n",
    "    \n",
    "        sizes = np.hstack((in_size, hidden_sizes, out_size))\n",
    "        for i in range(len(sizes) - 1):\n",
    "            in_size = sizes[i]\n",
    "            out_size = sizes[i+1]\n",
    "            \n",
    "            self.dense_l.append(Dense(in_size, out_size, self.lr))\n",
    "            if(i < len(sizes) - 2):\n",
    "                self.relu_l.append(ReLu())\n",
    "                self.dropout_l.append(Dropout(self.prob))\n",
    "        \n",
    "        \n",
    "    def forward(self, x):\n",
    "        batch = copy.deepcopy(x)\n",
    "        \n",
    "        if(self.mode == 'train'):\n",
    "            for n in range(len(self.relu_l)):\n",
    "                batch = self.dense_l[n].forward(batch)\n",
    "                batch = self.relu_l[n].forward(batch)\n",
    "                batch = self.dropout_l[n].forward(batch)\n",
    "        else:\n",
    "            for n in range(len(self.relu_l)):\n",
    "                batch = self.dense_l[n].forward(batch)\n",
    "                batch = self.relu_l[n].forward(batch)\n",
    "        \n",
    "        n += 1\n",
    "        batch = self.dense_l[n].forward(batch)\n",
    "        return batch\n",
    "   \n",
    "\n",
    "    def backward(self, dz):       \n",
    "        dout = self.dense_l[-1].backward(dz, self.lr)\n",
    "        \n",
    "        for i in range(len(self.dense_l) - 2, -1, -1):\n",
    "            dout = self.dropout_l[i].backward(dout)\n",
    "            dout = self.relu_l[i].backward(dout)\n",
    "            dout = self.dense_l[i].backward(dout, self.lr)\n",
    "        return dout\n",
    "    \n",
    "    def fit(self, x, y, x_val, y_val, batch_size=20, epoches=30):\n",
    "        self.mode = 'train'\n",
    "        iter_per_ep = x.shape[0] // batch_size\n",
    "        losses = []\n",
    "        accs = []\n",
    "        losses_val = []\n",
    "        accs_val = []\n",
    "        for ep in range(epoches):\n",
    "            print('epoch:', ep)\n",
    "            for i in range(iter_per_ep):\n",
    "                batch = copy.deepcopy(x)\n",
    "                idx = np.random.randint(low=0, high=x.shape[0], size=batch_size)\n",
    "                batch = x[idx]\n",
    "                batch_y = y[idx]\n",
    "                scores = self.forward(batch)\n",
    "                lo = self.loss.forward(scores, batch_y)\n",
    "                dz = 1\n",
    "                dz = self.loss.backward()\n",
    "                dz = self.backward(dz)\n",
    "            \n",
    "            self.lr *= self.decay\n",
    "            scores = self.forward(x)\n",
    "            losses.append(self.loss.forward(scores, y))\n",
    "            accs.append(calc_acc(scores, y))\n",
    "            \n",
    "            scores = self.forward(x_val)\n",
    "            losses_val.append(self.loss.forward(scores, y_val))\n",
    "            acc = calc_acc(scores, y_val)\n",
    "            accs_val.append(acc)\n",
    "            \n",
    "            print('iteration:', (ep+1) * iter_per_ep, '/', \n",
    "                  epoches * iter_per_ep, 'val accuracy:', acc)\n",
    "            \n",
    "        return (losses, accs), (losses_val, accs_val)\n",
    "    \n",
    "    def predict(self, x):\n",
    "        self.mode = 'test'\n",
    "        return self.forward(x)"
   ]
  },
  {
   "cell_type": "markdown",
   "metadata": {},
   "source": [
    "# Обученне сети"
   ]
  },
  {
   "cell_type": "code",
   "execution_count": 82,
   "metadata": {},
   "outputs": [
    {
     "name": "stdout",
     "output_type": "stream",
     "text": [
      "epoch: 0\n",
      "iteration: 1680 / 50400 val accuracy: 0.8827380952380952\n",
      "epoch: 1\n",
      "iteration: 3360 / 50400 val accuracy: 0.9127380952380952\n",
      "epoch: 2\n",
      "iteration: 5040 / 50400 val accuracy: 0.9238095238095239\n",
      "epoch: 3\n",
      "iteration: 6720 / 50400 val accuracy: 0.9320238095238095\n",
      "epoch: 4\n",
      "iteration: 8400 / 50400 val accuracy: 0.9336904761904762\n",
      "epoch: 5\n",
      "iteration: 10080 / 50400 val accuracy: 0.9453571428571429\n",
      "epoch: 6\n",
      "iteration: 11760 / 50400 val accuracy: 0.944047619047619\n",
      "epoch: 7\n",
      "iteration: 13440 / 50400 val accuracy: 0.944047619047619\n",
      "epoch: 8\n",
      "iteration: 15120 / 50400 val accuracy: 0.9508333333333333\n",
      "epoch: 9\n",
      "iteration: 16800 / 50400 val accuracy: 0.9480952380952381\n",
      "epoch: 10\n",
      "iteration: 18480 / 50400 val accuracy: 0.9514285714285714\n",
      "epoch: 11\n",
      "iteration: 20160 / 50400 val accuracy: 0.9519047619047619\n",
      "epoch: 12\n",
      "iteration: 21840 / 50400 val accuracy: 0.9532142857142857\n",
      "epoch: 13\n",
      "iteration: 23520 / 50400 val accuracy: 0.9529761904761904\n",
      "epoch: 14\n",
      "iteration: 25200 / 50400 val accuracy: 0.9542857142857143\n",
      "epoch: 15\n",
      "iteration: 26880 / 50400 val accuracy: 0.955952380952381\n",
      "epoch: 16\n",
      "iteration: 28560 / 50400 val accuracy: 0.9577380952380953\n",
      "epoch: 17\n",
      "iteration: 30240 / 50400 val accuracy: 0.9602380952380952\n",
      "epoch: 18\n",
      "iteration: 31920 / 50400 val accuracy: 0.9586904761904762\n",
      "epoch: 19\n",
      "iteration: 33600 / 50400 val accuracy: 0.9592857142857143\n",
      "epoch: 20\n",
      "iteration: 35280 / 50400 val accuracy: 0.9607142857142857\n",
      "epoch: 21\n",
      "iteration: 36960 / 50400 val accuracy: 0.9595238095238096\n",
      "epoch: 22\n",
      "iteration: 38640 / 50400 val accuracy: 0.96\n",
      "epoch: 23\n",
      "iteration: 40320 / 50400 val accuracy: 0.9610714285714286\n",
      "epoch: 24\n",
      "iteration: 42000 / 50400 val accuracy: 0.963452380952381\n",
      "epoch: 25\n",
      "iteration: 43680 / 50400 val accuracy: 0.9633333333333334\n",
      "epoch: 26\n",
      "iteration: 45360 / 50400 val accuracy: 0.9633333333333334\n",
      "epoch: 27\n",
      "iteration: 47040 / 50400 val accuracy: 0.9592857142857143\n",
      "epoch: 28\n",
      "iteration: 48720 / 50400 val accuracy: 0.9628571428571429\n",
      "epoch: 29\n",
      "iteration: 50400 / 50400 val accuracy: 0.9633333333333334\n"
     ]
    }
   ],
   "source": [
    "net = MnistNet(X_train.shape[1], [400, 200], 10, learning_rate=1e-1, prob=0.5, lr_decay=0.95)\n",
    "losses, losses_val = net.fit(X_train, y_train, X_val, y_val, batch_size=20, epoches=30)"
   ]
  },
  {
   "cell_type": "markdown",
   "metadata": {},
   "source": [
    "# Анализ результатов"
   ]
  },
  {
   "cell_type": "code",
   "execution_count": 90,
   "metadata": {},
   "outputs": [
    {
     "data": {
      "text/plain": [
       "0.9752380952380952"
      ]
     },
     "execution_count": 90,
     "metadata": {},
     "output_type": "execute_result"
    }
   ],
   "source": [
    "scores = net.predict(X_test)\n",
    "calc_acc(scores, y_test)"
   ]
  },
  {
   "cell_type": "code",
   "execution_count": 84,
   "metadata": {},
   "outputs": [],
   "source": [
    "loss, accs = losses\n",
    "loss_val, accs_val = losses_val"
   ]
  },
  {
   "cell_type": "code",
   "execution_count": 85,
   "metadata": {},
   "outputs": [
    {
     "data": {
      "text/plain": [
       "<matplotlib.legend.Legend at 0x7f0a511c6e48>"
      ]
     },
     "execution_count": 85,
     "metadata": {},
     "output_type": "execute_result"
    },
    {
     "data": {
      "image/png": "[encoded data removed]",
      "text/plain": [
       "<Figure size 432x288 with 1 Axes>"
      ]
     },
     "metadata": {
      "needs_background": "light"
     },
     "output_type": "display_data"
    }
   ],
   "source": [
    "plt.title('loss')\n",
    "plt.plot(loss, label='train')\n",
    "plt.plot(loss_val, label='val')\n",
    "plt.legend()"
   ]
  },
  {
   "cell_type": "code",
   "execution_count": 86,
   "metadata": {},
   "outputs": [
    {
     "data": {
      "text/plain": [
       "<matplotlib.legend.Legend at 0x7f0a51274e80>"
      ]
     },
     "execution_count": 86,
     "metadata": {},
     "output_type": "execute_result"
    },
    {
     "data": {
      "image/png": "[encoded data removed]",
      "text/plain": [
       "<Figure size 432x288 with 1 Axes>"
      ]
     },
     "metadata": {
      "needs_background": "light"
     },
     "output_type": "display_data"
    }
   ],
   "source": [
    "plt.title('acc')\n",
    "plt.plot(accs, label='train')\n",
    "plt.plot(accs_val, label='val')\n",
    "plt.legend()"
   ]
  },
  {
   "cell_type": "code",
   "execution_count": 87,
   "metadata": {},
   "outputs": [],
   "source": [
    "# формируем сабмишшен и заливаем его на kaggle\n",
    "make_submission(X_test_fin, net)"
   ]
  }
 ],
 "metadata": {
  "kernelspec": {
   "display_name": "Python 3",
   "language": "python",
   "name": "python3"
  },
  "language_info": {
   "codemirror_mode": {
    "name": "ipython",
    "version": 3
   },
   "file_extension": ".py",
   "mimetype": "text/x-python",
   "name": "python",
   "nbconvert_exporter": "python",
   "pygments_lexer": "ipython3",
   "version": "3.7.2"
  }
 },
 "nbformat": 4,
 "nbformat_minor": 2
}
