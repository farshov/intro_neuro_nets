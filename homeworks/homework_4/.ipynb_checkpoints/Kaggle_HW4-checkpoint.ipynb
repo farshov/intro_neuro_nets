{
 "cells": [
  {
   "cell_type": "code",
   "execution_count": 1,
   "metadata": {},
   "outputs": [],
   "source": [
    "%matplotlib inline"
   ]
  },
  {
   "cell_type": "code",
   "execution_count": 2,
   "metadata": {},
   "outputs": [],
   "source": [
    "import torch\n",
    "import torch.optim as optim\n",
    "import copy\n",
    "\n",
    "import torch.nn as nn\n",
    "import torch.nn.functional as F\n",
    "\n",
    "from sklearn.metrics import accuracy_score\n",
    "import tqdm\n",
    "\n",
    "import numpy as np\n",
    "import PIL\n",
    "import random\n",
    "from IPython.core.display import Image, display\n",
    "\n",
    "import matplotlib.pyplot as plt"
   ]
  },
  {
   "cell_type": "code",
   "execution_count": 3,
   "metadata": {},
   "outputs": [
    {
     "data": {
      "text/plain": [
       "True"
      ]
     },
     "execution_count": 3,
     "metadata": {},
     "output_type": "execute_result"
    }
   ],
   "source": [
    "torch.cuda.is_available()"
   ]
  },
  {
   "cell_type": "code",
   "execution_count": 4,
   "metadata": {},
   "outputs": [
    {
     "data": {
      "text/plain": [
       "0"
      ]
     },
     "execution_count": 4,
     "metadata": {},
     "output_type": "execute_result"
    }
   ],
   "source": [
    "torch.cuda.current_device()"
   ]
  },
  {
   "cell_type": "code",
   "execution_count": 5,
   "metadata": {},
   "outputs": [
    {
     "name": "stdout",
     "output_type": "stream",
     "text": [
      "cuda:0\n",
      "None\n"
     ]
    }
   ],
   "source": [
    "DEVICE_ID = 3\n",
    "DEVICE = torch.device('cuda', 0)\n",
    "print(DEVICE)\n",
    "a = torch.cuda.set_device(DEVICE)\n",
    "print(a)"
   ]
  },
  {
   "cell_type": "code",
   "execution_count": 6,
   "metadata": {},
   "outputs": [
    {
     "data": {
      "text/plain": [
       "1"
      ]
     },
     "execution_count": 6,
     "metadata": {},
     "output_type": "execute_result"
    }
   ],
   "source": [
    "torch.cuda.device_count()"
   ]
  },
  {
   "cell_type": "code",
   "execution_count": 7,
   "metadata": {},
   "outputs": [
    {
     "data": {
      "text/plain": [
       "'GeForce GTX 980 Ti'"
      ]
     },
     "execution_count": 7,
     "metadata": {},
     "output_type": "execute_result"
    }
   ],
   "source": [
    "torch.cuda.get_device_name(DEVICE)"
   ]
  },
  {
   "cell_type": "code",
   "execution_count": 8,
   "metadata": {},
   "outputs": [
    {
     "name": "stdout",
     "output_type": "stream",
     "text": [
      "using device: cuda:0\n"
     ]
    }
   ],
   "source": [
    "print('using device:', DEVICE)"
   ]
  },
  {
   "cell_type": "code",
   "execution_count": 9,
   "metadata": {},
   "outputs": [],
   "source": [
    "### Для запуска без GPU раскомментировать и закоментировать код выше\n",
    "# DEVICE = torch.device('cpu')"
   ]
  },
  {
   "cell_type": "code",
   "execution_count": 10,
   "metadata": {},
   "outputs": [],
   "source": [
    "np.random.seed(100500)\n",
    "\n",
    "def data2image(data):\n",
    "    res = np.transpose(np.reshape(data ,(3, 32,32)), (1,2,0))\n",
    "    return PIL.Image.fromarray(np.uint8(res))\n",
    "\n",
    "def imshow(img):\n",
    "    if isinstance(img, torch.Tensor): img = img.numpy().astype('uint8')\n",
    "    plt.imshow(np.transpose(img, (1, 2, 0)))\n",
    "    \n",
    "def prediction2classes(output_var):\n",
    "    _, predicted = torch.max(output_var.data, 1)\n",
    "    predicted.squeeze_()\n",
    "    classes = predicted.tolist()\n",
    "    return classes\n",
    "\n",
    "def make_solution_pytorch(net, input_tensor, a_batch_size):\n",
    "    res = []\n",
    "    net = net.eval()\n",
    "    cur_pos = 0\n",
    "    while cur_pos <= len(input_tensor):\n",
    "        outputs = net(input_tensor[cur_pos:cur_pos+a_batch_size])\n",
    "        res += prediction2classes(outputs)\n",
    "        cur_pos += a_batch_size\n",
    "    return res"
   ]
  },
  {
   "cell_type": "code",
   "execution_count": 11,
   "metadata": {},
   "outputs": [],
   "source": [
    "from torch.utils.data import Dataset, DataLoader\n",
    "from torchvision import transforms, utils\n",
    "from PIL import Image\n",
    "\n",
    "class CifarDataset(Dataset):\n",
    "    def __init__(self, input_path, is_train=True, transform=None):\n",
    "                        \n",
    "        data = np.load(input_path)\n",
    "        if is_train: \n",
    "            self.Y, self.X = np.hsplit(data, [1]) \n",
    "            self.Y = [item[0] for item in self.Y]\n",
    "        else: \n",
    "            self.X = data\n",
    "            self.Y = None\n",
    "            \n",
    "        self.X = self.X.reshape((self.X.shape[0], 3, 32, 32))\n",
    "        self.X = self.X.transpose((0, 2, 3, 1)) #приводим к виду (N, H, W, C)\n",
    "        self.X = [Image.fromarray(img) for img in self.X]\n",
    "                \n",
    "        self.transform = transform\n",
    "\n",
    "    def __len__(self):\n",
    "        return len(self.X)\n",
    "\n",
    "    def __getitem__(self, idx):\n",
    "        \n",
    "        sample = self.X[idx]\n",
    "\n",
    "        if self.transform: sample = self.transform(sample)\n",
    "\n",
    "        if self.Y is None: return sample\n",
    "        else: return (sample, self.Y[idx])"
   ]
  },
  {
   "cell_type": "code",
   "execution_count": 12,
   "metadata": {},
   "outputs": [],
   "source": [
    "#Надо поменять пути на свои до файлов с kaggle\n",
    "DATA_PATH  = 'kaggle_1/'\n",
    "train_path = 'homework_4.train.npy'\n",
    "test_path  = 'homework_4_no_classes.test.npy'"
   ]
  },
  {
   "cell_type": "code",
   "execution_count": 13,
   "metadata": {
    "scrolled": true
   },
   "outputs": [],
   "source": [
    "np_mean = np.mean([item[0].numpy() for item in CifarDataset(DATA_PATH + train_path, transform=transforms.ToTensor())], axis=(0,2,3))\n",
    "np_std = np.std([item[0].numpy() for item in CifarDataset(DATA_PATH + train_path, transform=transforms.ToTensor())], axis=(0,2,3))"
   ]
  },
  {
   "cell_type": "code",
   "execution_count": 14,
   "metadata": {},
   "outputs": [
    {
     "data": {
      "text/plain": [
       "(3,)"
      ]
     },
     "execution_count": 14,
     "metadata": {},
     "output_type": "execute_result"
    }
   ],
   "source": [
    "np_mean.shape"
   ]
  },
  {
   "cell_type": "code",
   "execution_count": 15,
   "metadata": {},
   "outputs": [],
   "source": [
    "cifar_transform_norm = transforms.Compose([\n",
    "    transforms.Pad(4),\n",
    "    transforms.RandomCrop(32),\n",
    "    transforms.RandomHorizontalFlip(),\n",
    "    transforms.ToTensor(),\n",
    "    transforms.Normalize(torch.FloatTensor(np_mean), torch.FloatTensor(np_std))\n",
    "]\n",
    ")\n",
    "\n",
    "cifar_test_transform_norm = transforms.Compose([    \n",
    "    transforms.ToTensor(),\n",
    "    transforms.Normalize(torch.FloatTensor(np_mean), torch.FloatTensor(np_std))\n",
    "]\n",
    ")"
   ]
  },
  {
   "cell_type": "code",
   "execution_count": 16,
   "metadata": {},
   "outputs": [],
   "source": [
    "dataset_test_norm = CifarDataset(DATA_PATH + test_path, is_train=False, transform=cifar_test_transform_norm)\n",
    "dataloader_test_norm = DataLoader(dataset_test_norm, batch_size=128,\n",
    "                                  shuffle=False, num_workers=1)\n"
   ]
  },
  {
   "cell_type": "code",
   "execution_count": 68,
   "metadata": {},
   "outputs": [],
   "source": [
    "dataset_train_norm = CifarDataset(DATA_PATH + train_path, transform=cifar_transform_norm)\n",
    "dataloader_train_norm = DataLoader(dataset_train_norm, batch_size=128,\n",
    "                        shuffle=True, num_workers=4)\n",
    "\n",
    "dataset_test_norm = CifarDataset(DATA_PATH + test_path, is_train=False, transform=cifar_test_transform_norm)\n",
    "dataloader_test_norm = DataLoader(dataset_test_norm, batch_size=128,\n",
    "                        shuffle=False, num_workers=1)\n",
    "\n",
    "\n",
    "def train_network(a_net, \n",
    "                  a_device,\n",
    "                  dataloader_train_norm=dataloader_train_norm,\n",
    "                  a_epochs=164,\n",
    "                  a_batch_size=128,\n",
    "                  a_lr=0.1):\n",
    "    \n",
    "    train_acc = []\n",
    "    net = a_net.to(a_device)\n",
    "\n",
    "    criterion = nn.CrossEntropyLoss()\n",
    "    optimizer = torch.optim.SGD(a_net.parameters(), lr=a_lr, weight_decay=0.0013, momentum=0.9)\n",
    "\n",
    "    \n",
    "    for epoch in tqdm.tqdm_notebook(range(a_epochs)):  # loop over the dataset multiple times\n",
    "        if epoch == 40:\n",
    "            optimizer = torch.optim.SGD(a_net.parameters(), lr=a_lr/7, weight_decay=0.0013, momentum=0.9) \n",
    "        elif epoch == 82:\n",
    "            optimizer = torch.optim.SGD(a_net.parameters(), lr=a_lr/20, weight_decay=0.0013, momentum=0.9) \n",
    "        elif epoch == 123:\n",
    "            optimizer = torch.optim.SGD(a_net.parameters(), lr=a_lr/100, weight_decay=0.0013, momentum=0.9) \n",
    "        \n",
    "        \n",
    "        net = net.train()        \n",
    "        epoch_accuracy = 0.0\n",
    "        epoch_iters = 0\n",
    "        for item in dataloader_train_norm:\n",
    "            \n",
    "            epoch_iters += 1\n",
    "\n",
    "            inputs = item[0].to(a_device)\n",
    "            labels = item[1].long().to(a_device)\n",
    "\n",
    "            # zero the parameter gradients\n",
    "            optimizer.zero_grad()\n",
    "\n",
    "            # forward + backward + optimize\n",
    "            outputs = net(inputs)\n",
    "            loss = criterion(outputs, labels)\n",
    "            loss.backward()\n",
    "            optimizer.step()\n",
    "            \n",
    "            labels_copy = labels.to(torch.device('cpu'))\n",
    "            epoch_accuracy += accuracy_score(labels_copy, prediction2classes(outputs))\n",
    "\n",
    "        epoch_accuracy /= epoch_iters\n",
    "        train_acc.append(epoch_accuracy)\n",
    "        \n",
    "        print(\"Epoch \", epoch, round(train_acc[-1], 4))\n",
    "\n",
    "    print('Finished Training')\n",
    "    \n",
    "    plt.plot(train_acc, label='Train')\n",
    "    plt.legend()\n",
    "    plt.grid()\n",
    "    return train_acc"
   ]
  },
  {
   "cell_type": "code",
   "execution_count": 18,
   "metadata": {},
   "outputs": [],
   "source": [
    "class StupidDenseNet(nn.Module):\n",
    "    \n",
    "    def __init__(self):\n",
    "        super(StupidDenseNet, self).__init__()\n",
    "        \n",
    "        #Один из способов задать сеть - это задать последовательность слоев через Sequential\n",
    "        self.classifier = nn.Sequential()\n",
    "        self.classifier.add_module('lin1', nn.Linear(3*32*32, 500))\n",
    "        self.classifier.add_module('sig1', torch.nn.Sigmoid())\n",
    "        self.classifier.add_module('lin2', nn.Linear(500, 300))\n",
    "        self.classifier.add_module('sig2', torch.nn.Sigmoid())\n",
    "        self.classifier.add_module('lin3', nn.Linear(300, 100))\n",
    "        self.classifier.add_module('sig3', torch.nn.Sigmoid())\n",
    "        \n",
    "    def forward(self, x):\n",
    "        x = x.view((x.size()[0], -1))\n",
    "        x = self.classifier(x)\n",
    "        return x"
   ]
  },
  {
   "cell_type": "code",
   "execution_count": 19,
   "metadata": {},
   "outputs": [],
   "source": [
    "net = StupidDenseNet()"
   ]
  },
  {
   "cell_type": "code",
   "execution_count": 20,
   "metadata": {},
   "outputs": [
    {
     "data": {
      "text/plain": [
       "Sequential(\n",
       "  (lin1): Linear(in_features=3072, out_features=500, bias=True)\n",
       "  (sig1): Sigmoid()\n",
       "  (lin2): Linear(in_features=500, out_features=300, bias=True)\n",
       "  (sig2): Sigmoid()\n",
       "  (lin3): Linear(in_features=300, out_features=100, bias=True)\n",
       "  (sig3): Sigmoid()\n",
       ")"
      ]
     },
     "execution_count": 20,
     "metadata": {},
     "output_type": "execute_result"
    }
   ],
   "source": [
    "net.classifier"
   ]
  },
  {
   "cell_type": "code",
   "execution_count": 21,
   "metadata": {},
   "outputs": [],
   "source": [
    "class LeNet(nn.Module):\n",
    "\n",
    "    def __init__(self):\n",
    "        super(LeNet, self).__init__()\n",
    "\n",
    "        ### Другой способ задания сети - это описать слои и в forward их применять явно\n",
    "        \n",
    "        self.conv1 = nn.Conv2d(3, 6, 5)\n",
    "        self.conv2 = nn.Conv2d(6, 16, 5)\n",
    "        # an affine operation: y = Wx + b\n",
    "        self.fc1 = nn.Linear(16 * 5 * 5, 120)\n",
    "        #Увеличиваем кол-во выходных слоев с 84 - до 84*2 - потому что классов 100\n",
    "        self.fc2 = nn.Linear(120, 84*2)\n",
    "        self.fc3 = nn.Linear(84*2, 100)\n",
    "\n",
    "    def forward(self, x):\n",
    "        # Max pooling over a (2, 2) window\n",
    "        x = F.max_pool2d(F.relu(self.conv1(x)), (2, 2))\n",
    "        # If the size is a square you can only specify a single number\n",
    "        x = F.max_pool2d(F.relu(self.conv2(x)), 2)\n",
    "        x = x.view(-1, self.num_flat_features(x))\n",
    "        x = F.relu(self.fc1(x))\n",
    "        x = F.relu(self.fc2(x))\n",
    "        x = self.fc3(x)\n",
    "        return x\n",
    "\n",
    "    def num_flat_features(self, x):\n",
    "        size = x.size()[1:]  # all dimensions except the batch dimension\n",
    "        num_features = 1\n",
    "        for s in size:\n",
    "            num_features *= s\n",
    "        return num_features"
   ]
  },
  {
   "cell_type": "code",
   "execution_count": 22,
   "metadata": {},
   "outputs": [],
   "source": [
    "DOWNSAMPLE_COEF = 2\n",
    "\n",
    "def conv3x3(a_in_planes, a_out_planes, a_stride=1):\n",
    "    \"\"\"\n",
    "    Основной строительный блок конволюций для ResNet\n",
    "    Включает в себя padding=1 - чтобы размерность сохранялась после его применения\n",
    "    \"\"\"\n",
    "    return nn.Conv2d(a_in_planes, a_out_planes,  stride=a_stride,\n",
    "                     kernel_size=3, padding=1, bias=False)\n",
    "\n",
    "def x_downsample(a_in_channels, downsample_coef=2):\n",
    "    if(downsample_coef==2):\n",
    "        return conv3x3(a_in_channels, a_in_channels*downsample_coef, 2)\n",
    "    elif(downsample_coef==2):\n",
    "        return conv3x3(a_in_channels, a_in_channels*2, 1)\n",
    "    else:\n",
    "        return conv3x3(a_in_channels, a_in_channels*downsample_coef, 1)\n",
    "\n",
    "class CifarResidualBlock(nn.Module):\n",
    "    def __init__(self, a_in_channels, make_downsample=False, use_skip_connection=True):\n",
    "        super(CifarResidualBlock, self).__init__()\n",
    "        self.use_skip_connection = use_skip_connection\n",
    "        \n",
    "        if make_downsample: coef = DOWNSAMPLE_COEF\n",
    "        else: coef = 1  \n",
    "        \n",
    "        self.coef = coef\n",
    "        self.skip = use_skip_connection\n",
    "        self.in_channels = a_in_channels\n",
    "        \n",
    "        self.downsaple = x_downsample(a_in_channels, coef)\n",
    "        a_in_channels = a_in_channels * coef\n",
    "        self.batch1 = nn.BatchNorm2d(a_in_channels)\n",
    "        self.relu1 = nn.ReLU()\n",
    "        \n",
    "        self.conv = conv3x3(a_in_channels, a_in_channels)\n",
    "        self.batch2 = nn.BatchNorm2d(a_in_channels)\n",
    "        self.relu2 = nn.ReLU()\n",
    "        \n",
    "        if(use_skip_connection):\n",
    "            if(coef != 1):\n",
    "                self.x_down = nn.Conv2d(self.in_channels, self.in_channels * coef, stride=2,\n",
    "                     kernel_size=1, padding=0, bias=False)\n",
    "            self.relu3 = nn.ReLU()\n",
    "            \n",
    "    def forward(self, x):\n",
    "        use_skip_connection = self.skip\n",
    "        coef = self.coef\n",
    "        out1 = self.relu1(self.batch1(self.downsaple(x)))\n",
    "        out2 = self.relu2(self.batch2(self.conv(out1)))\n",
    "\n",
    "        if(use_skip_connection):\n",
    "            small_x = x\n",
    "            if(coef != 1):\n",
    "                small_x = self.x_down(small_x)\n",
    "            out = self.relu3(out2 + small_x)\n",
    "        else:\n",
    "            out = out2\n",
    "        \n",
    "        return out"
   ]
  },
  {
   "cell_type": "code",
   "execution_count": 23,
   "metadata": {},
   "outputs": [],
   "source": [
    "class new_CifarResidualBlock(nn.Module):\n",
    "    def __init__(self, a_in_channels, make_downsample=False, use_skip_connection=True):\n",
    "        super(new_CifarResidualBlock, self).__init__()\n",
    "        self.use_skip_connection = use_skip_connection\n",
    "        \n",
    "        coef = 1\n",
    "            \n",
    "        ### TODO - нужно описать используемые блоки\n",
    "        self.coef = coef\n",
    "        self.skip = use_skip_connection\n",
    "        self.in_channels = a_in_channels\n",
    "        \n",
    "        self.downsaple = conv3x3(a_in_channels, a_in_channels*2, 1)\n",
    "        a_in_channels = a_in_channels * 2\n",
    "        self.batch1 = nn.BatchNorm2d(a_in_channels)\n",
    "        self.relu1 = nn.ReLU()\n",
    "        \n",
    "        self.conv = conv3x3(a_in_channels, a_in_channels)\n",
    "        self.batch2 = nn.BatchNorm2d(a_in_channels)\n",
    "        self.relu2 = nn.ReLU()\n",
    "        \n",
    "        if(use_skip_connection):\n",
    "            self.x_down = nn.Conv2d(self.in_channels, self.in_channels * 2, stride=1,\n",
    "                                     kernel_size=1, padding=0, bias=False)\n",
    "            self.relu3 = nn.ReLU()\n",
    "            \n",
    "    def forward(self, x):\n",
    "        use_skip_connection = self.skip\n",
    "        coef = self.coef\n",
    "        out1 = self.relu1(self.batch1(self.downsaple(x)))\n",
    "        out2 = self.relu2(self.batch2(self.conv(out1)))\n",
    "\n",
    "        if(use_skip_connection):\n",
    "            small_x = x\n",
    "            small_x = self.x_down(small_x)\n",
    "            out = self.relu3(out2 + small_x)\n",
    "        else:\n",
    "            out = out2\n",
    "        \n",
    "        return out"
   ]
  },
  {
   "cell_type": "code",
   "execution_count": 24,
   "metadata": {},
   "outputs": [
    {
     "data": {
      "text/plain": [
       "<matplotlib.image.AxesImage at 0x7fcdc9e28518>"
      ]
     },
     "execution_count": 24,
     "metadata": {},
     "output_type": "execute_result"
    },
    {
     "data": {
      "image/png": "[encoded data removed]",
      "text/plain": [
       "<Figure size 432x288 with 1 Axes>"
      ]
     },
     "metadata": {
      "needs_background": "light"
     },
     "output_type": "display_data"
    }
   ],
   "source": [
    "plt.imshow(dataset_train_norm.X[1000])"
   ]
  },
  {
   "cell_type": "code",
   "execution_count": 25,
   "metadata": {},
   "outputs": [
    {
     "data": {
      "text/plain": [
       "32"
      ]
     },
     "execution_count": 25,
     "metadata": {},
     "output_type": "execute_result"
    }
   ],
   "source": [
    "dataset_train_norm.X[0].width"
   ]
  },
  {
   "cell_type": "code",
   "execution_count": 26,
   "metadata": {},
   "outputs": [
    {
     "data": {
      "text/plain": [
       "32"
      ]
     },
     "execution_count": 26,
     "metadata": {},
     "output_type": "execute_result"
    }
   ],
   "source": [
    "dataset_train_norm.X[0].height"
   ]
  },
  {
   "cell_type": "code",
   "execution_count": 53,
   "metadata": {},
   "outputs": [],
   "source": [
    "# 56-layer ResNet\n",
    "# n=9, number of layers = 6n+2\n",
    "class new_CifarResNet(nn.Module):\n",
    "    \n",
    "    def __init__(self):\n",
    "        super(new_CifarResNet, self).__init__()\n",
    "        \n",
    "        #TODO нужно добавить блоков resnet и других слоев при необходимости\n",
    "        #__________________________________________________________________\n",
    "        self.features = nn.Sequential()\n",
    "        # input 3x32x32\n",
    "        self.features.add_module('3x3_conv', nn.Conv2d(3, 32, kernel_size=3, stride=1, \n",
    "                                                       padding=1, bias=False)) \n",
    "        # output 16x32x32\n",
    "        \n",
    "        # first 2n block\n",
    "        self.features.add_module('res_block1_1', CifarResidualBlock(32))\n",
    "        self.features.add_module('res_block1_2', CifarResidualBlock(32))\n",
    "        self.features.add_module('res_block1_3', CifarResidualBlock(32))\n",
    "        #self.features.add_module('res_block1_4', CifarResidualBlock(32))\n",
    "        \"\"\"self.features.add_module('res_block1_5', CifarResidualBlock(16))\n",
    "        self.features.add_module('res_block1_6', CifarResidualBlock(16))\n",
    "        self.features.add_module('res_block1_7', CifarResidualBlock(16))\"\"\"\n",
    "        \"\"\"self.features.add_module('res_block1_8', CifarResidualBlock(16))\n",
    "        self.features.add_module('res_block1_9', CifarResidualBlock(16))\n",
    "        self.features.add_module('res_block1_10', CifarResidualBlock(16))\n",
    "        self.features.add_module('res_block1_11', CifarResidualBlock(16))\"\"\"\n",
    "        # output 32x32x32\n",
    "\n",
    "        # second 2n block\n",
    "        self.features.add_module('res_block2_1', CifarResidualBlock(32, make_downsample=True))\n",
    "        self.features.add_module('res_block2_2', CifarResidualBlock(64)) \n",
    "        self.features.add_module('res_block2_3', CifarResidualBlock(64))\n",
    "        #self.features.add_module('res_block2_4', CifarResidualBlock(64)) \n",
    "        \"\"\"self.features.add_module('res_block2_5', CifarResidualBlock(32))\n",
    "        self.features.add_module('res_block2_6', CifarResidualBlock(32)) \n",
    "        self.features.add_module('res_block2_7', CifarResidualBlock(32))\"\"\"\n",
    "        \"\"\"self.features.add_module('res_block2_8', CifarResidualBlock(32)) \n",
    "        self.features.add_module('res_block2_9', CifarResidualBlock(32))\n",
    "        self.features.add_module('res_block2_10', CifarResidualBlock(32))\n",
    "        self.features.add_module('res_block2_11', CifarResidualBlock(32))\"\"\"\n",
    "        # output 64x16x16\n",
    "        \n",
    "        # third 2n block\n",
    "        self.features.add_module('res_block3_1', CifarResidualBlock(64, make_downsample=True))\n",
    "        self.features.add_module('res_block3_2', CifarResidualBlock(128)) \n",
    "        self.features.add_module('res_block3_3', CifarResidualBlock(128))\n",
    "        #self.features.add_module('res_block3_4', CifarResidualBlock(128)) \n",
    "        \"\"\"self.features.add_module('res_block3_5', CifarResidualBlock(64)) \n",
    "        self.features.add_module('res_block3_6', CifarResidualBlock(64)) \n",
    "        self.features.add_module('res_block3_7', CifarResidualBlock(64))\"\"\"\n",
    "        \"\"\"elf.features.add_module('res_block3_8', CifarResidualBlock(64)) \n",
    "        self.features.add_module('res_block3_9', CifarResidualBlock(64))\n",
    "        self.features.add_module('res_block3_10', CifarResidualBlock(64))\n",
    "        self.features.add_module('res_block3_11', CifarResidualBlock(64))\"\"\"\n",
    "        # output 128x8x8\n",
    "        #__________________________________________________________________\n",
    "        \n",
    "        self.global_avg_pooling = nn.AvgPool2d(kernel_size=2)\n",
    "        #self.features.add_module('fin_batch', nn.BatchNorm2d(64))\n",
    "        # output 64x4x4\n",
    "        self.fc_classifier = nn.Linear(4*4*128, 100)\n",
    "        \n",
    "    def forward(self, x):\n",
    "        x = self.features(x)\n",
    "        x = self.global_avg_pooling(x)  \n",
    "        x = x.view((x.size()[0], -1)) \n",
    "        x = self.fc_classifier(x)        \n",
    "        return x"
   ]
  },
  {
   "cell_type": "code",
   "execution_count": 70,
   "metadata": {},
   "outputs": [
    {
     "name": "stdout",
     "output_type": "stream",
     "text": [
      "Epoch  0 0.021\n",
      "Epoch  1 0.041\n",
      "Epoch  2 0.0497\n",
      "Epoch  3 0.0522\n",
      "Epoch  4 0.0551\n",
      "Epoch  5 0.0541\n",
      "Epoch  6 0.0552\n",
      "Epoch  7 0.0549\n",
      "Epoch  8 0.0572\n",
      "Epoch  9 0.0603\n",
      "Epoch  10 0.0628\n",
      "Epoch  11 0.0627\n",
      "Epoch  12 0.0682\n",
      "Epoch  13 0.0695\n",
      "Epoch  14 0.072\n",
      "Epoch  15 0.0743\n",
      "Epoch  16 0.0787\n",
      "Epoch  17 0.0833\n",
      "Epoch  18 0.0839\n",
      "Epoch  19 0.084\n",
      "Epoch  20 0.0866\n",
      "Epoch  21 0.0885\n",
      "Epoch  22 0.091\n",
      "Epoch  23 0.0929\n",
      "Epoch  24 0.0928\n",
      "Epoch  25 0.0929\n",
      "Epoch  26 0.0929\n",
      "Epoch  27 0.0957\n",
      "Epoch  28 0.0975\n",
      "Epoch  29 0.0983\n",
      "Epoch  30 0.0981\n",
      "Epoch  31 0.0991\n",
      "Epoch  32 0.1003\n",
      "Epoch  33 0.102\n",
      "Epoch  34 0.1008\n",
      "Epoch  35 0.103\n",
      "Epoch  36 0.1025\n",
      "Epoch  37 0.1059\n",
      "Epoch  38 0.1071\n",
      "Epoch  39 0.1067\n",
      "Epoch  40 0.1081\n",
      "Epoch  41 0.1098\n",
      "Epoch  42 0.1102\n",
      "Epoch  43 0.1114\n",
      "Epoch  44 0.1152\n",
      "Epoch  45 0.1141\n",
      "Epoch  46 0.1134\n",
      "Epoch  47 0.1166\n",
      "Epoch  48 0.1154\n",
      "Epoch  49 0.1165\n",
      "Epoch  50 0.1186\n",
      "Epoch  51 0.1188\n",
      "Epoch  52 0.1192\n",
      "Epoch  53 0.1185\n",
      "Epoch  54 0.1206\n",
      "Epoch  55 0.1225\n",
      "Epoch  56 0.1215\n",
      "Epoch  57 0.1201\n",
      "Epoch  58 0.1241\n",
      "Epoch  59 0.1216\n",
      "Epoch  60 0.1252\n",
      "Epoch  61 0.1276\n",
      "Epoch  62 0.1276\n",
      "Epoch  63 0.1289\n",
      "Epoch  64 0.1283\n",
      "Epoch  65 0.1295\n",
      "Epoch  66 0.1298\n",
      "Epoch  67 0.1298\n",
      "Epoch  68 0.1296\n",
      "Epoch  69 0.1292\n",
      "Epoch  70 0.132\n",
      "Epoch  71 0.1327\n",
      "Epoch  72 0.132\n",
      "Epoch  73 0.1316\n",
      "Epoch  74 0.1346\n",
      "Epoch  75 0.1356\n",
      "Epoch  76 0.136\n",
      "Epoch  77 0.1361\n",
      "Epoch  78 0.1363\n",
      "Epoch  79 0.1369\n",
      "Epoch  80 0.137\n",
      "Epoch  81 0.1377\n",
      "Epoch  82 0.1418\n",
      "Epoch  83 0.1436\n",
      "Epoch  84 0.1438\n",
      "Epoch  85 0.1443\n",
      "Epoch  86 0.1451\n",
      "Epoch  87 0.1473\n",
      "Epoch  88 0.1448\n",
      "Epoch  89 0.1462\n",
      "Epoch  90 0.1472\n",
      "Epoch  91 0.1465\n",
      "Epoch  92 0.1462\n",
      "Epoch  93 0.1467\n",
      "Epoch  94 0.1476\n",
      "Epoch  95 0.1468\n",
      "Epoch  96 0.1476\n",
      "Epoch  97 0.1463\n",
      "Epoch  98 0.1472\n",
      "Epoch  99 0.1467\n",
      "Epoch  100 0.1478\n",
      "Epoch  101 0.147\n",
      "Epoch  102 0.1472\n",
      "Epoch  103 0.1463\n",
      "Epoch  104 0.1474\n",
      "Epoch  105 0.1455\n",
      "Epoch  106 0.1478\n",
      "Epoch  107 0.1478\n",
      "Epoch  108 0.1487\n",
      "Epoch  109 0.1474\n",
      "Epoch  110 0.148\n",
      "Epoch  111 0.1462\n",
      "Epoch  112 0.148\n",
      "Epoch  113 0.1468\n",
      "Epoch  114 0.1469\n",
      "Epoch  115 0.1483\n",
      "Epoch  116 0.1488\n",
      "Epoch  117 0.1478\n",
      "Epoch  118 0.149\n",
      "Epoch  119 0.1505\n",
      "Epoch  120 0.1476\n",
      "Epoch  121 0.1493\n",
      "Epoch  122 0.147\n",
      "Epoch  123 0.1522\n",
      "Epoch  124 0.1487\n",
      "Epoch  125 0.1517\n",
      "Epoch  126 0.1494\n",
      "Epoch  127 0.1511\n",
      "Epoch  128 0.1493\n",
      "Epoch  129 0.1491\n",
      "Epoch  130 0.1501\n",
      "Epoch  131 0.1499\n",
      "Epoch  132 0.1479\n",
      "Epoch  133 0.1497\n",
      "Epoch  134 0.1496\n",
      "Epoch  135 0.1498\n",
      "Epoch  136 0.1494\n",
      "Epoch  137 0.1496\n",
      "Epoch  138 0.1504\n",
      "Epoch  139 0.1494\n",
      "Epoch  140 0.1482\n",
      "Epoch  141 0.15\n",
      "Epoch  142 0.15\n",
      "Epoch  143 0.1513\n",
      "Epoch  144 0.1484\n",
      "Epoch  145 0.1502\n",
      "Epoch  146 0.149\n",
      "Epoch  147 0.149\n",
      "Epoch  148 0.1475\n",
      "Epoch  149 0.1505\n",
      "Epoch  150 0.1486\n",
      "Epoch  151 0.1495\n",
      "Epoch  152 0.15\n",
      "Epoch  153 0.1507\n",
      "Epoch  154 0.1477\n",
      "Epoch  155 0.1504\n",
      "Epoch  156 0.1513\n",
      "Epoch  157 0.1496\n",
      "Epoch  158 0.1494\n",
      "Epoch  159 0.1497\n",
      "Epoch  160 0.1501\n",
      "Epoch  161 0.1484\n",
      "Epoch  162 0.1501\n",
      "Epoch  163 0.1512\n",
      "Finished Training\n",
      "CPU times: user 3min 23s, sys: 48.8 s, total: 4min 11s\n",
      "Wall time: 7min 2s\n"
     ]
    },
    {
     "data": {
      "image/png": "[encoded data removed]",
      "text/plain": [
       "<Figure size 432x288 with 1 Axes>"
      ]
     },
     "metadata": {
      "needs_background": "light"
     },
     "output_type": "display_data"
    }
   ],
   "source": [
    "dense_net = StupidDenseNet()\n",
    "%time train_network(dense_net, DEVICE)"
   ]
  },
  {
   "cell_type": "code",
   "execution_count": 71,
   "metadata": {},
   "outputs": [
    {
     "name": "stdout",
     "output_type": "stream",
     "text": [
      "Epoch  0 0.0504\n",
      "Epoch  1 0.0758\n",
      "Epoch  2 0.0935\n",
      "Epoch  3 0.1001\n",
      "Epoch  4 0.1069\n",
      "Epoch  5 0.104\n",
      "Epoch  6 0.1083\n",
      "Epoch  7 0.111\n",
      "Epoch  8 0.1148\n",
      "Epoch  9 0.1132\n",
      "Finished Training\n",
      "CPU times: user 5min 29s, sys: 8min 38s, total: 14min 8s\n",
      "Wall time: 1min 23s\n"
     ]
    },
    {
     "data": {
      "image/png": "[encoded data removed]",
      "text/plain": [
       "<Figure size 432x288 with 1 Axes>"
      ]
     },
     "metadata": {
      "needs_background": "light"
     },
     "output_type": "display_data"
    }
   ],
   "source": [
    "lenet = LeNet()\n",
    "%time train_network(lenet, torch.device('cpu'), a_epochs=10)"
   ]
  },
  {
   "cell_type": "code",
   "execution_count": 72,
   "metadata": {},
   "outputs": [
    {
     "name": "stdout",
     "output_type": "stream",
     "text": [
      "Epoch  0 0.0496\n",
      "Epoch  1 0.0826\n",
      "Epoch  2 0.0964\n",
      "Epoch  3 0.1052\n",
      "Epoch  4 0.1009\n",
      "Epoch  5 0.1043\n",
      "Epoch  6 0.113\n",
      "Epoch  7 0.1061\n",
      "Epoch  8 0.1146\n",
      "Epoch  9 0.1177\n",
      "Finished Training\n",
      "CPU times: user 16.6 s, sys: 3.29 s, total: 19.9 s\n",
      "Wall time: 26.1 s\n"
     ]
    },
    {
     "data": {
      "image/png": "[encoded data removed]",
      "text/plain": [
       "<Figure size 432x288 with 1 Axes>"
      ]
     },
     "metadata": {
      "needs_background": "light"
     },
     "output_type": "display_data"
    }
   ],
   "source": [
    "lenet = LeNet()\n",
    "%time train_network(lenet, torch.device(DEVICE), a_epochs=10)"
   ]
  },
  {
   "cell_type": "code",
   "execution_count": 69,
   "metadata": {},
   "outputs": [
    {
     "data": {
      "application/vnd.jupyter.widget-view+json": {
       "model_id": "dc222843b9094347acdb45513764960c",
       "version_major": 2,
       "version_minor": 0
      },
      "text/plain": [
       "HBox(children=(IntProgress(value=0, max=164), HTML(value='')))"
      ]
     },
     "metadata": {},
     "output_type": "display_data"
    },
    {
     "name": "stdout",
     "output_type": "stream",
     "text": [
      "Epoch  0 0.0548\n",
      "Epoch  1 0.0857\n",
      "Epoch  2 0.0977\n",
      "Epoch  3 0.1026\n",
      "Epoch  4 0.1121\n",
      "Epoch  5 0.111\n",
      "Epoch  6 0.1172\n",
      "Epoch  7 0.119\n",
      "Epoch  8 0.1216\n",
      "Epoch  9 0.1238\n",
      "Epoch  10 0.1247\n",
      "Epoch  11 0.1232\n",
      "Epoch  12 0.1278\n",
      "Epoch  13 0.1304\n",
      "Epoch  14 0.1319\n",
      "Epoch  15 0.132\n",
      "Epoch  16 0.1307\n",
      "Epoch  17 0.1319\n",
      "Epoch  18 0.1322\n",
      "Epoch  19 0.132\n",
      "Epoch  20 0.1317\n",
      "Epoch  21 0.1301\n",
      "Epoch  22 0.1342\n",
      "Epoch  23 0.1343\n",
      "Epoch  24 0.1363\n",
      "Epoch  25 0.1314\n",
      "Epoch  26 0.1357\n",
      "Epoch  27 0.1356\n",
      "Epoch  28 0.1395\n",
      "Epoch  29 0.134\n",
      "Epoch  30 0.1388\n",
      "Epoch  31 0.1421\n",
      "Epoch  32 0.1387\n",
      "Epoch  33 0.1381\n",
      "Epoch  34 0.1382\n",
      "Epoch  35 0.1389\n",
      "Epoch  36 0.138\n",
      "Epoch  37 0.1383\n",
      "Epoch  38 0.1398\n",
      "Epoch  39 0.14\n",
      "Epoch  40 0.2179\n",
      "Epoch  41 0.2446\n",
      "Epoch  42 0.2535\n",
      "Epoch  43 0.2612\n",
      "Epoch  44 0.2714\n",
      "Epoch  45 0.2761\n",
      "Epoch  46 0.2771\n",
      "Epoch  47 0.2799\n",
      "Epoch  48 0.2796\n",
      "Epoch  49 0.2896\n",
      "Epoch  50 0.2884\n",
      "Epoch  51 0.2929\n",
      "Epoch  52 0.2938\n",
      "Epoch  53 0.2973\n",
      "Epoch  54 0.2991\n",
      "Epoch  55 0.3006\n",
      "Epoch  56 0.302\n",
      "Epoch  57 0.3042\n",
      "Epoch  58 0.3049\n",
      "Epoch  59 0.306\n",
      "Epoch  60 0.3086\n",
      "Epoch  61 0.3122\n",
      "Epoch  62 0.3112\n",
      "Epoch  63 0.3115\n",
      "Epoch  64 0.3173\n",
      "Epoch  65 0.3124\n",
      "Epoch  66 0.3115\n",
      "Epoch  67 0.3177\n",
      "Epoch  68 0.3155\n",
      "Epoch  69 0.3171\n",
      "Epoch  70 0.3148\n",
      "Epoch  71 0.319\n",
      "Epoch  72 0.3173\n",
      "Epoch  73 0.3202\n",
      "Epoch  74 0.3192\n",
      "Epoch  75 0.3236\n",
      "Epoch  76 0.3226\n",
      "Epoch  77 0.322\n",
      "Epoch  78 0.3231\n",
      "Epoch  79 0.3238\n",
      "Epoch  80 0.3238\n",
      "Epoch  81 0.3237\n",
      "Epoch  82 0.3703\n",
      "Epoch  83 0.376\n",
      "Epoch  84 0.3806\n",
      "Epoch  85 0.3805\n",
      "Epoch  86 0.3811\n",
      "Epoch  87 0.3832\n",
      "Epoch  88 0.3823\n",
      "Epoch  89 0.3867\n",
      "Epoch  90 0.384\n",
      "Epoch  91 0.3842\n",
      "Epoch  92 0.3827\n",
      "Epoch  93 0.3874\n",
      "Epoch  94 0.3869\n",
      "Epoch  95 0.391\n",
      "Epoch  96 0.3878\n",
      "Epoch  97 0.3873\n",
      "Epoch  98 0.3852\n",
      "Epoch  99 0.39\n",
      "Epoch  100 0.3935\n",
      "Epoch  101 0.3883\n",
      "Epoch  102 0.3902\n",
      "Epoch  103 0.3877\n",
      "Epoch  104 0.3932\n",
      "Epoch  105 0.3925\n",
      "Epoch  106 0.3915\n",
      "Epoch  107 0.3915\n",
      "Epoch  108 0.3914\n",
      "Epoch  109 0.3924\n",
      "Epoch  110 0.3936\n",
      "Epoch  111 0.3934\n",
      "Epoch  112 0.3935\n",
      "Epoch  113 0.3902\n",
      "Epoch  114 0.3906\n",
      "Epoch  115 0.3965\n",
      "Epoch  116 0.3936\n",
      "Epoch  117 0.3932\n",
      "Epoch  118 0.3947\n",
      "Epoch  119 0.3952\n",
      "Epoch  120 0.3934\n",
      "Epoch  121 0.3983\n",
      "Epoch  122 0.3963\n",
      "Epoch  123 0.4297\n",
      "Epoch  124 0.4392\n",
      "Epoch  125 0.4373\n",
      "Epoch  126 0.44\n",
      "Epoch  127 0.4418\n",
      "Epoch  128 0.4425\n",
      "Epoch  129 0.4414\n",
      "Epoch  130 0.4425\n",
      "Epoch  131 0.4465\n",
      "Epoch  132 0.4438\n",
      "Epoch  133 0.4454\n",
      "Epoch  134 0.4449\n",
      "Epoch  135 0.4429\n",
      "Epoch  136 0.4429\n",
      "Epoch  137 0.4451\n",
      "Epoch  138 0.4457\n",
      "Epoch  139 0.4466\n",
      "Epoch  140 0.445\n",
      "Epoch  141 0.4467\n",
      "Epoch  142 0.4469\n",
      "Epoch  143 0.4453\n",
      "Epoch  144 0.4471\n",
      "Epoch  145 0.4482\n",
      "Epoch  146 0.4465\n",
      "Epoch  147 0.4492\n",
      "Epoch  148 0.4481\n",
      "Epoch  149 0.4476\n",
      "Epoch  150 0.4493\n",
      "Epoch  151 0.4484\n",
      "Epoch  152 0.4491\n",
      "Epoch  153 0.4515\n",
      "Epoch  154 0.4513\n",
      "Epoch  155 0.4493\n",
      "Epoch  156 0.449\n",
      "Epoch  157 0.4497\n",
      "Epoch  158 0.4502\n",
      "Epoch  159 0.4482\n",
      "Epoch  160 0.4483\n",
      "Epoch  161 0.4491\n",
      "Epoch  162 0.451\n",
      "Epoch  163 0.4495\n",
      "Finished Training\n",
      "CPU times: user 4min 33s, sys: 56 s, total: 5min 28s\n",
      "Wall time: 7min 8s\n"
     ]
    },
    {
     "data": {
      "text/plain": [
       "[0.05477941176470588,\n",
       " 0.08568174552429667,\n",
       " 0.09766624040920716,\n",
       " 0.10264945652173912,\n",
       " 0.11205242966751919,\n",
       " 0.11100143861892582,\n",
       " 0.11722346547314579,\n",
       " 0.11895780051150896,\n",
       " 0.12164322250639387,\n",
       " 0.12376918158567775,\n",
       " 0.12474824168797953,\n",
       " 0.1231897378516624,\n",
       " 0.1278332800511509,\n",
       " 0.13039881713554988,\n",
       " 0.13189338235294118,\n",
       " 0.13195332480818414,\n",
       " 0.13067854859335037,\n",
       " 0.13187340153452684,\n",
       " 0.13215313299232737,\n",
       " 0.13201726342710998,\n",
       " 0.13165760869565218,\n",
       " 0.13006313938618924,\n",
       " 0.1342391304347826,\n",
       " 0.13430306905370845,\n",
       " 0.13631713554987213,\n",
       " 0.13141384271099743,\n",
       " 0.13568574168797953,\n",
       " 0.1355898337595908,\n",
       " 0.13948209718670077,\n",
       " 0.13400335677749362,\n",
       " 0.13878276854219948,\n",
       " 0.14208359974424553,\n",
       " 0.13867886828644502,\n",
       " 0.13807544757033247,\n",
       " 0.1381873401534527,\n",
       " 0.1389186381074169,\n",
       " 0.137971547314578,\n",
       " 0.1382992327365729,\n",
       " 0.1398497442455243,\n",
       " 0.14003356777493606,\n",
       " 0.21786684782608695,\n",
       " 0.24455722506393862,\n",
       " 0.2535046355498721,\n",
       " 0.26121323529411766,\n",
       " 0.2713794757033248,\n",
       " 0.2760549872122762,\n",
       " 0.2770580242966752,\n",
       " 0.2799072890025575,\n",
       " 0.2796395460358056,\n",
       " 0.2896259590792839,\n",
       " 0.2883991368286445,\n",
       " 0.29287883631713557,\n",
       " 0.2937739769820972,\n",
       " 0.29727461636828645,\n",
       " 0.2990928708439898,\n",
       " 0.30059143222506396,\n",
       " 0.30203804347826085,\n",
       " 0.30417599104859333,\n",
       " 0.30487132352941176,\n",
       " 0.30601422634271097,\n",
       " 0.30855978260869565,\n",
       " 0.31216831841432224,\n",
       " 0.3112372122762148,\n",
       " 0.31150895140664964,\n",
       " 0.3172874040920716,\n",
       " 0.31236812659846547,\n",
       " 0.31150895140664964,\n",
       " 0.31766304347826085,\n",
       " 0.3155330882352941,\n",
       " 0.3171355498721228,\n",
       " 0.3148417519181586,\n",
       " 0.3189697890025575,\n",
       " 0.3172554347826087,\n",
       " 0.3202165920716113,\n",
       " 0.3192255434782609,\n",
       " 0.3236173273657289,\n",
       " 0.3226102941176471,\n",
       " 0.32200287723785165,\n",
       " 0.323053868286445,\n",
       " 0.32384111253196934,\n",
       " 0.32382512787723783,\n",
       " 0.32372122762148337,\n",
       " 0.37025255754475705,\n",
       " 0.3759950447570332,\n",
       " 0.38056265984654736,\n",
       " 0.3805226982097187,\n",
       " 0.38108216112531973,\n",
       " 0.38315617007672637,\n",
       " 0.38233296035805625,\n",
       " 0.3867167519181586,\n",
       " 0.38395140664961636,\n",
       " 0.38415920716112534,\n",
       " 0.3826926150895141,\n",
       " 0.3874080882352941,\n",
       " 0.3868845907928389,\n",
       " 0.3910166240409207,\n",
       " 0.3877717391304348,\n",
       " 0.38729619565217394,\n",
       " 0.38521819053708445,\n",
       " 0.38999360613810746,\n",
       " 0.39351023017902814,\n",
       " 0.3883272058823529,\n",
       " 0.39017742966751917,\n",
       " 0.38773177749360616,\n",
       " 0.39316656010230183,\n",
       " 0.3925111892583121,\n",
       " 0.39145220588235297,\n",
       " 0.3914721867007673,\n",
       " 0.3914482097186701,\n",
       " 0.39236732736572894,\n",
       " 0.3935621803069054,\n",
       " 0.39341831841432223,\n",
       " 0.3934662723785166,\n",
       " 0.39024936061381077,\n",
       " 0.3905850383631714,\n",
       " 0.396491368286445,\n",
       " 0.393602141943734,\n",
       " 0.3931705562659847,\n",
       " 0.39465313299232735,\n",
       " 0.39521659207161125,\n",
       " 0.3934343030690537,\n",
       " 0.39833359974424554,\n",
       " 0.3963475063938619,\n",
       " 0.42969549232736576,\n",
       " 0.4392263427109975,\n",
       " 0.43731617647058824,\n",
       " 0.4399936061381074,\n",
       " 0.4417718989769821,\n",
       " 0.4425231777493606,\n",
       " 0.44135230179028134,\n",
       " 0.44251518542199486,\n",
       " 0.4465433184143222,\n",
       " 0.4437539961636829,\n",
       " 0.44543638107416883,\n",
       " 0.44485693734015347,\n",
       " 0.44294677109974423,\n",
       " 0.44288283248081844,\n",
       " 0.44506873401534525,\n",
       " 0.445696131713555,\n",
       " 0.4466232416879795,\n",
       " 0.4449848145780051,\n",
       " 0.44673513427109973,\n",
       " 0.4469069693094629,\n",
       " 0.445252557544757,\n",
       " 0.4470628196930946,\n",
       " 0.44818574168797953,\n",
       " 0.4465273337595908,\n",
       " 0.44920076726342706,\n",
       " 0.448081841432225,\n",
       " 0.447554347826087,\n",
       " 0.4493486253196931,\n",
       " 0.4483735613810742,\n",
       " 0.4490928708439898,\n",
       " 0.4515305306905371,\n",
       " 0.45130674552429667,\n",
       " 0.4493246483375959,\n",
       " 0.44898497442455243,\n",
       " 0.4496723145780051,\n",
       " 0.45015185421994885,\n",
       " 0.44822969948849106,\n",
       " 0.448349584398977,\n",
       " 0.4491128516624041,\n",
       " 0.4509670716112532,\n",
       " 0.4494605179028133]"
      ]
     },
     "execution_count": 69,
     "metadata": {},
     "output_type": "execute_result"
    },
    {
     "data": {
      "image/png": "[encoded data removed]",
      "text/plain": [
       "<Figure size 432x288 with 1 Axes>"
      ]
     },
     "metadata": {
      "needs_background": "light"
     },
     "output_type": "display_data"
    }
   ],
   "source": [
    "lenet = LeNet()\n",
    "%time train_network(lenet, torch.device(DEVICE))"
   ]
  },
  {
   "cell_type": "code",
   "execution_count": 63,
   "metadata": {},
   "outputs": [
    {
     "data": {
      "application/vnd.jupyter.widget-view+json": {
       "model_id": "c20051499a734d5897fe966a4856dff3",
       "version_major": 2,
       "version_minor": 0
      },
      "text/plain": [
       "HBox(children=(IntProgress(value=0, max=185), HTML(value='')))"
      ]
     },
     "metadata": {},
     "output_type": "display_data"
    },
    {
     "name": "stdout",
     "output_type": "stream",
     "text": [
      "Epoch  0 0.0097\n",
      "Epoch  1 0.0092\n",
      "Epoch  2 0.0101\n",
      "Epoch  3 0.009\n",
      "Epoch  4 0.0311\n",
      "Epoch  5 0.1139\n",
      "Epoch  6 0.1663\n",
      "Epoch  7 0.2051\n",
      "Epoch  8 0.2485\n",
      "Epoch  9 0.2847\n",
      "Epoch  10 0.3169\n",
      "Epoch  11 0.3403\n",
      "Epoch  12 0.3546\n",
      "Epoch  13 0.3682\n",
      "Epoch  14 0.3807\n",
      "Epoch  15 0.3885\n",
      "Epoch  16 0.3985\n",
      "Epoch  17 0.4032\n",
      "Epoch  18 0.4096\n",
      "Epoch  19 0.4126\n",
      "Epoch  20 0.4127\n",
      "Epoch  21 0.4219\n",
      "Epoch  22 0.4205\n",
      "Epoch  23 0.4229\n",
      "Epoch  24 0.4278\n",
      "Epoch  25 0.4268\n",
      "Epoch  26 0.4304\n",
      "Epoch  27 0.4315\n",
      "Epoch  28 0.4318\n",
      "Epoch  29 0.4326\n",
      "Epoch  30 0.5468\n",
      "Epoch  31 0.5752\n",
      "Epoch  32 0.5875\n",
      "Epoch  33 0.5918\n",
      "Epoch  34 0.5987\n",
      "Epoch  35 0.6011\n",
      "Epoch  36 0.6047\n",
      "Epoch  37 0.6032\n",
      "Epoch  38 0.6064\n",
      "Epoch  39 0.6077\n",
      "Epoch  40 0.6089\n",
      "Epoch  41 0.611\n",
      "Epoch  42 0.6113\n",
      "Epoch  43 0.6142\n",
      "Epoch  44 0.6101\n",
      "Epoch  45 0.6128\n",
      "Epoch  46 0.6182\n",
      "Epoch  47 0.618\n",
      "Epoch  48 0.6194\n",
      "Epoch  49 0.6166\n",
      "Epoch  50 0.6233\n",
      "Epoch  51 0.6193\n",
      "Epoch  52 0.6223\n",
      "Epoch  53 0.6213\n",
      "Epoch  54 0.6229\n",
      "Epoch  55 0.6267\n",
      "Epoch  56 0.625\n",
      "Epoch  57 0.6265\n",
      "Epoch  58 0.6305\n",
      "Epoch  59 0.6303\n",
      "Epoch  60 0.688\n",
      "Epoch  61 0.6998\n",
      "Epoch  62 0.7037\n",
      "Epoch  63 0.7056\n",
      "Epoch  64 0.7044\n",
      "Epoch  65 0.7066\n",
      "Epoch  66 0.7077\n",
      "Epoch  67 0.7061\n",
      "Epoch  68 0.7083\n",
      "Epoch  69 0.7052\n",
      "Epoch  70 0.7082\n",
      "Epoch  71 0.7062\n",
      "Epoch  72 0.7082\n",
      "Epoch  73 0.708\n",
      "Epoch  74 0.7097\n",
      "Epoch  75 0.7105\n",
      "Epoch  76 0.7092\n",
      "Epoch  77 0.7099\n",
      "Epoch  78 0.7084\n",
      "Epoch  79 0.7095\n",
      "Epoch  80 0.7091\n",
      "Epoch  81 0.7117\n",
      "Epoch  82 0.7084\n",
      "Epoch  83 0.7105\n",
      "Epoch  84 0.7103\n",
      "Epoch  85 0.7558\n",
      "Epoch  86 0.769\n",
      "Epoch  87 0.7734\n",
      "Epoch  88 0.7744\n",
      "Epoch  89 0.7773\n",
      "Epoch  90 0.7804\n",
      "Epoch  91 0.7814\n",
      "Epoch  92 0.7841\n",
      "Epoch  93 0.7841\n",
      "Epoch  94 0.7823\n",
      "Epoch  95 0.7852\n",
      "Epoch  96 0.7874\n",
      "Epoch  97 0.7836\n",
      "Epoch  98 0.7869\n",
      "Epoch  99 0.7897\n",
      "Epoch  100 0.7986\n",
      "Epoch  101 0.8035\n",
      "Epoch  102 0.8031\n",
      "Epoch  103 0.8047\n",
      "Epoch  104 0.8054\n",
      "Epoch  105 0.8062\n",
      "Epoch  106 0.8064\n",
      "Epoch  107 0.8051\n",
      "Epoch  108 0.8056\n",
      "Epoch  109 0.8091\n",
      "Epoch  110 0.8054\n",
      "Epoch  111 0.8074\n",
      "Epoch  112 0.8095\n",
      "Epoch  113 0.8107\n",
      "Epoch  114 0.8101\n",
      "Epoch  115 0.8118\n",
      "Epoch  116 0.8092\n",
      "Epoch  117 0.8123\n",
      "Epoch  118 0.8112\n",
      "Epoch  119 0.8121\n",
      "Epoch  120 0.8099\n",
      "Epoch  121 0.8133\n",
      "Epoch  122 0.8125\n",
      "Epoch  123 0.8126\n",
      "Epoch  124 0.8121\n",
      "Epoch  125 0.8153\n",
      "Epoch  126 0.8138\n",
      "Epoch  127 0.8134\n",
      "Epoch  128 0.8133\n",
      "Epoch  129 0.8148\n",
      "Epoch  130 0.8132\n",
      "Epoch  131 0.8157\n",
      "Epoch  132 0.8163\n",
      "Epoch  133 0.8166\n",
      "Epoch  134 0.8168\n",
      "Epoch  135 0.8146\n",
      "Epoch  136 0.8159\n",
      "Epoch  137 0.8163\n",
      "Epoch  138 0.8167\n",
      "Epoch  139 0.817\n",
      "Epoch  140 0.8206\n",
      "Epoch  141 0.8228\n",
      "Epoch  142 0.8257\n",
      "Epoch  143 0.8218\n",
      "Epoch  144 0.823\n",
      "Epoch  145 0.8224\n",
      "Epoch  146 0.8245\n",
      "Epoch  147 0.825\n",
      "Epoch  148 0.8253\n",
      "Epoch  149 0.8235\n",
      "Epoch  150 0.8242\n",
      "Epoch  151 0.8242\n",
      "Epoch  152 0.8247\n",
      "Epoch  153 0.8249\n",
      "Epoch  154 0.8258\n",
      "Epoch  155 0.8253\n",
      "Epoch  156 0.8261\n",
      "Epoch  157 0.8248\n",
      "Epoch  158 0.8272\n",
      "Epoch  159 0.8259\n",
      "Epoch  160 0.8285\n",
      "Epoch  161 0.8311\n",
      "Epoch  162 0.8292\n",
      "Epoch  163 0.8308\n",
      "Epoch  164 0.8286\n",
      "Epoch  165 0.8288\n",
      "Epoch  166 0.8297\n",
      "Epoch  167 0.8277\n",
      "Epoch  168 0.8301\n",
      "Epoch  169 0.8277\n",
      "Epoch  170 0.8301\n",
      "Epoch  171 0.8309\n",
      "Epoch  172 0.8304\n",
      "Epoch  173 0.8326\n",
      "Epoch  174 0.8319\n",
      "Epoch  175 0.8301\n",
      "Epoch  176 0.8314\n",
      "Epoch  177 0.833\n",
      "Epoch  178 0.8305\n",
      "Epoch  179 0.833\n",
      "Epoch  180 0.8315\n",
      "Epoch  181 0.8322\n",
      "Epoch  182 0.8327\n",
      "Epoch  183 0.8312\n",
      "Epoch  184 0.8334\n",
      "Finished Training\n",
      "CPU times: user 56min 40s, sys: 14min 25s, total: 1h 11min 6s\n",
      "Wall time: 1h 11min 33s\n"
     ]
    },
    {
     "data": {
      "image/png": "[encoded data removed]",
      "text/plain": [
       "<Figure size 432x288 with 1 Axes>"
      ]
     },
     "metadata": {
      "needs_background": "light"
     },
     "output_type": "display_data"
    }
   ],
   "source": [
    "resnet1 = new_CifarResNet()\n",
    "%time train_acc = train_network(resnet1, torch.device(DEVICE))"
   ]
  },
  {
   "cell_type": "markdown",
   "metadata": {},
   "source": [
    "# Важно переключить сеть в режим eval - иначе dropout будет работать некорректно"
   ]
  },
  {
   "cell_type": "code",
   "execution_count": 64,
   "metadata": {},
   "outputs": [],
   "source": [
    "def make_solution(a_net, a_device):\n",
    "    res = []\n",
    "    net = a_net.eval()\n",
    "    for item in dataloader_test_norm:\n",
    "        inputs = item.to(a_device)\n",
    "        outputs = net(inputs) \n",
    "\n",
    "        res += prediction2classes(outputs)\n",
    "    return res"
   ]
  },
  {
   "cell_type": "code",
   "execution_count": 65,
   "metadata": {},
   "outputs": [],
   "source": [
    "# my_solution = make_solution(dense_net, DEVICE)\n",
    "my_solution = make_solution(resnet1, DEVICE)"
   ]
  },
  {
   "cell_type": "code",
   "execution_count": 67,
   "metadata": {},
   "outputs": [],
   "source": [
    "with open('my_solution.csv', 'w') as fout:\n",
    "    print('Id', 'Prediction', sep=',', file=fout)\n",
    "    for i, prediction in enumerate(my_solution):\n",
    "        print(i, prediction, sep=',', file=fout)"
   ]
  },
  {
   "cell_type": "code",
   "execution_count": null,
   "metadata": {},
   "outputs": [],
   "source": []
  }
 ],
 "metadata": {
  "kernelspec": {
   "display_name": "Python 3",
   "language": "python",
   "name": "python3"
  },
  "language_info": {
   "codemirror_mode": {
    "name": "ipython",
    "version": 3
   },
   "file_extension": ".py",
   "mimetype": "text/x-python",
   "name": "python",
   "nbconvert_exporter": "python",
   "pygments_lexer": "ipython3",
   "version": "3.7.2"
  }
 },
 "nbformat": 4,
 "nbformat_minor": 1
}
